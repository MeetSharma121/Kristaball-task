# Inventory Management System for Hotel Bars

# 📦 Step 1: Imports
import pandas as pd
import numpy as np
import matplotlib.pyplot as plt
import seaborn as sns
import warnings
warnings.filterwarnings("ignore")

from sklearn.metrics import mean_absolute_error, mean_squared_error
from prophet import Prophet

# 📂 Step 2: Load and Explore Data
df = pd.read_csv('data/inventory_data.csv', parse_dates=['date'])

# Preview
df.head()
# 🧼 Step 3: Data Preprocessing

# Handle missing values
df = df.dropna(subset=['item_id', 'location_id', 'date', 'quantity_sold'])

# Filter relevant columns
df = df[['item_id', 'location_id', 'date', 'quantity_sold']]

# Check time range
print(f"Date Range: {df.date.min()} to {df.date.max()}")

# Check number of unique items and locations
print(f"Unique items: {df.item_id.nunique()}, Unique locations: {df.location_id.nunique()}")
# 📊 Step 4: EDA – Visualize Demand Patterns
sample_item = df['item_id'].unique()[0]
sample_location = df['location_id'].unique()[0]

sample_df = df[(df['item_id'] == sample_item) & (df['location_id'] == sample_location)]
sample_df = sample_df.groupby('date')['quantity_sold'].sum().reset_index()

plt.figure(figsize=(12, 4))
plt.plot(sample_df['date'], sample_df['quantity_sold'])
plt.title(f"Demand for Item {sample_item} at Location {sample_location}")
plt.xlabel("Date")
plt.ylabel("Quantity Sold")
plt.grid(True)
plt.show()
# 📈 Step 5: Forecasting with Prophet

def forecast_demand(df, item_id, location_id, periods=30):
    item_df = df[(df['item_id'] == item_id) & (df['location_id'] == location_id)]
    daily_sales = item_df.groupby('date')['quantity_sold'].sum().reset_index()
    daily_sales.columns = ['ds', 'y']
    
    model = Prophet(daily_seasonality=True)
    model.fit(daily_sales)
    
    future = model.make_future_dataframe(periods=periods)
    forecast = model.predict(future)
    
    return model, forecast

model, forecast = forecast_demand(df, sample_item, sample_location)

# Plot forecast
model.plot(forecast)
plt.title("Forecasted Demand")
plt.show()
# 📦 Step 6: Inventory Recommendation Logic

def recommend_par_level(forecast, service_level=0.95):
    forecasted_demand = forecast[['ds', 'yhat']].tail(30)['yhat']
    safety_stock = np.percentile(forecasted_demand, 100 * service_level)
    par_level = forecasted_demand.mean() + safety_stock
    return int(np.ceil(par_level))

par_level = recommend_par_level(forecast)
print(f"Recommended Par Level for Item {sample_item} at Location {sample_location}: {par_level}")
# 🔁 Step 7: Simulation

def simulate_inventory(par_level, actuals, lead_time=7):
    inventory = par_level
    stockouts = 0
    overstock = 0
    restock_days = []

    for day, demand in enumerate(actuals):
        if inventory < demand:
            stockouts += 1
            inventory = 0
        else:
            inventory -= demand

        if day % lead_time == 0:
            restock_days.append(day)
            overstock += inventory
            inventory = par_level
    
    service_level = 1 - stockouts / len(actuals)
    return service_level, stockouts, overstock

actuals = df[(df['item_id'] == sample_item) & (df['location_id'] == sample_location)]
actuals = actuals.groupby('date')['quantity_sold'].sum().values[-30:]

service_level, stockouts, overstock = simulate_inventory(par_level, actuals)

print(f"Service Level: {service_level:.2f}")
print(f"Stockouts in 30 days: {stockouts}")
print(f"Overstock: {overstock}")
# 🧾 Step 8: Summary

print("📝 Summary:")
print(f"Item: {sample_item}, Location: {sample_location}")
print(f"Forecast Horizon: 30 days")
print(f"Par Level: {par_level}")
print(f"Service Level: {service_level:.2f}")
print(f"Stockouts: {stockouts}, Overstock: {overstock}")
